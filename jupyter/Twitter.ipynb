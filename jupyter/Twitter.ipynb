{
 "cells": [
  {
   "cell_type": "markdown",
   "id": "2602d42e",
   "metadata": {},
   "source": [
    "## This is my Twitter App\n",
    "\n",
    "![Twitter image](https://static01.nyt.com/images/2014/08/10/magazine/10wmt/10wmt-superJumbo-v4.jpg)"
   ]
  },
  {
   "cell_type": "code",
   "execution_count": null,
   "id": "98ae0715",
   "metadata": {},
   "outputs": [],
   "source": [
    "name = input(\"Please enter your name: \")\n"
   ]
  },
  {
   "cell_type": "code",
   "execution_count": null,
   "id": "e2a8e056",
   "metadata": {},
   "outputs": [],
   "source": [
    "print(\"Hello {}\".format(name))"
   ]
  },
  {
   "cell_type": "code",
   "execution_count": null,
   "id": "f7ed3661",
   "metadata": {},
   "outputs": [],
   "source": [
    "tweets = [\"ID\", \"Tweet\"]\n",
    "tweetCount = 0\n",
    "while True:\n",
    "    print(\"Enter your tweet: (type 'exit' to exit.)\")\n",
    "    tweet = input()\n",
    "    if tweet == \"exit\" or tweet == \"Exit\" or tweet == \"EXIT\":\n",
    "        break\n",
    "    tweetCount = tweetCount + 1\n",
    "    tweets.append([tweetCount, tweet])"
   ]
  },
  {
   "cell_type": "code",
   "execution_count": null,
   "id": "f19905bc",
   "metadata": {},
   "outputs": [],
   "source": [
    "for t in tweets:\n",
    "    print(t)"
   ]
  },
  {
   "cell_type": "code",
   "execution_count": null,
   "id": "bc324169",
   "metadata": {},
   "outputs": [],
   "source": [
    "!pip install tabulate"
   ]
  },
  {
   "cell_type": "code",
   "execution_count": null,
   "id": "814a78b5",
   "metadata": {},
   "outputs": [],
   "source": [
    "from IPython.display import HTML, display\n",
    "import tabulate\n",
    "\n",
    "display(HTML(tabulate.tabulate(tweets, tablefmt=\"html\")))"
   ]
  }
 ],
 "metadata": {
  "kernelspec": {
   "display_name": "Python 3 (ipykernel)",
   "language": "python",
   "name": "python3"
  },
  "language_info": {
   "codemirror_mode": {
    "name": "ipython",
    "version": 3
   },
   "file_extension": ".py",
   "mimetype": "text/x-python",
   "name": "python",
   "nbconvert_exporter": "python",
   "pygments_lexer": "ipython3",
   "version": "3.10.2"
  }
 },
 "nbformat": 4,
 "nbformat_minor": 5
}
